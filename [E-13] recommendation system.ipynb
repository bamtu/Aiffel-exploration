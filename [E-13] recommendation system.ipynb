{
 "cells": [
  {
   "cell_type": "code",
   "execution_count": 25,
   "id": "4d5bfe5a",
   "metadata": {},
   "outputs": [],
   "source": [
    "import numpy as np\n",
    "import pandas as pd\n",
    "import scipy\n",
    "import implicit\n",
    "from scipy.sparse import csr_matrix\n",
    "from implicit.als import AlternatingLeastSquares\n",
    "import os"
   ]
  },
  {
   "cell_type": "code",
   "execution_count": 17,
   "id": "4809b573",
   "metadata": {},
   "outputs": [
    {
     "name": "stdout",
     "output_type": "stream",
     "text": [
      "orginal_data_size: 1000209, filtered_data_size: 836478\n",
      "Ratio of Remaining Data is 83.63%\n"
     ]
    }
   ],
   "source": [
    "rating_file_path=os.getenv('HOME') + '/aiffel/recommendata_iu/data/ml-1m/ratings.dat'\n",
    "ratings_cols = ['user_id', 'movie_id', 'ratings', 'timestamp']\n",
    "ratings = pd.read_csv(rating_file_path, sep='::', names=ratings_cols, engine='python', encoding = \"ISO-8859-1\")\n",
    "orginal_data_size = len(ratings)\n",
    "ratings.head()\n",
    "\n",
    "# 3점 이상만 남깁니다.\n",
    "ratings = ratings[ratings['ratings']>=3]\n",
    "filtered_data_size = len(ratings)\n",
    "\n",
    "print(f'orginal_data_size: {orginal_data_size}, filtered_data_size: {filtered_data_size}')\n",
    "print(f'Ratio of Remaining Data is {filtered_data_size / orginal_data_size:.2%}')\n",
    "\n",
    "# ratings 컬럼의 이름을 counts로 바꿉니다.\n",
    "ratings.rename(columns={'ratings':'count'}, inplace=True)\n",
    "\n",
    "movie_file_path=os.getenv('HOME') + '/aiffel/recommendata_iu/data/ml-1m/movies.dat'\n",
    "cols = ['movie_id', 'title', 'genre'] \n",
    "movies = pd.read_csv(movie_file_path, sep='::', names=cols, engine='python', encoding='ISO-8859-1')"
   ]
  },
  {
   "cell_type": "markdown",
   "id": "f76040b0",
   "metadata": {},
   "source": [
    "## 분석해 봅시다."
   ]
  },
  {
   "cell_type": "code",
   "execution_count": 18,
   "id": "3f5ba297",
   "metadata": {},
   "outputs": [
    {
     "data": {
      "text/plain": [
       "3628"
      ]
     },
     "execution_count": 18,
     "metadata": {},
     "output_type": "execute_result"
    }
   ],
   "source": [
    "# ratings에 있는 유니크한 영화 개수\n",
    "ratings['movie_id'].nunique()"
   ]
  },
  {
   "cell_type": "code",
   "execution_count": 19,
   "id": "e2e234bd",
   "metadata": {},
   "outputs": [
    {
     "data": {
      "text/plain": [
       "6039"
      ]
     },
     "execution_count": 19,
     "metadata": {},
     "output_type": "execute_result"
    }
   ],
   "source": [
    "# rating에 있는 유니크한 사용자 수\n",
    "ratings['user_id'].nunique()"
   ]
  },
  {
   "cell_type": "code",
   "execution_count": 20,
   "id": "cc2d15b4",
   "metadata": {
    "scrolled": true
   },
   "outputs": [
    {
     "data": {
      "text/plain": [
       "title\n",
       "American Beauty (1999)                                   3211\n",
       "Star Wars: Episode IV - A New Hope (1977)                2910\n",
       "Star Wars: Episode V - The Empire Strikes Back (1980)    2885\n",
       "Star Wars: Episode VI - Return of the Jedi (1983)        2716\n",
       "Saving Private Ryan (1998)                               2561\n",
       "Terminator 2: Judgment Day (1991)                        2509\n",
       "Silence of the Lambs, The (1991)                         2498\n",
       "Raiders of the Lost Ark (1981)                           2473\n",
       "Back to the Future (1985)                                2460\n",
       "Matrix, The (1999)                                       2434\n",
       "Jurassic Park (1993)                                     2413\n",
       "Sixth Sense, The (1999)                                  2385\n",
       "Fargo (1996)                                             2371\n",
       "Braveheart (1995)                                        2314\n",
       "Men in Black (1997)                                      2297\n",
       "Schindler's List (1993)                                  2257\n",
       "Princess Bride, The (1987)                               2252\n",
       "Shakespeare in Love (1998)                               2213\n",
       "L.A. Confidential (1997)                                 2210\n",
       "Shawshank Redemption, The (1994)                         2194\n",
       "Godfather, The (1972)                                    2167\n",
       "Groundhog Day (1993)                                     2121\n",
       "E.T. the Extra-Terrestrial (1982)                        2102\n",
       "Being John Malkovich (1999)                              2066\n",
       "Ghostbusters (1984)                                      2051\n",
       "Pulp Fiction (1994)                                      2030\n",
       "Forrest Gump (1994)                                      2022\n",
       "Terminator, The (1984)                                   2019\n",
       "Toy Story (1995)                                         2000\n",
       "Fugitive, The (1993)                                     1941\n",
       "Name: count, dtype: int64"
      ]
     },
     "execution_count": 20,
     "metadata": {},
     "output_type": "execute_result"
    }
   ],
   "source": [
    "# 가장 인기있는 영화 30개(인기순)\n",
    "movie_data = pd.merge(ratings, movies)\n",
    "movie_count = movie_data.groupby('title')['count'].count()\n",
    "movie_count.sort_values(ascending=False).head(30)"
   ]
  },
  {
   "cell_type": "markdown",
   "id": "f2726ea9",
   "metadata": {},
   "source": [
    "## 내가 선호하는 영화를 5가지 골라서 ratings에 추가해 줍시다."
   ]
  },
  {
   "cell_type": "code",
   "execution_count": 22,
   "id": "d7232385",
   "metadata": {},
   "outputs": [],
   "source": [
    "my_favorite = ['Star Wars: Episode IV - A New Hope (1977)' , 'Star Wars: Episode V - The Empire Strikes Back (1980)' ,'Star Wars: Episode VI - Return of the Jedi (1983)' ,'Men in Black (1997)' ,'Toy Story (1995)']\n",
    "\n",
    "favorite_movie_id = movies[movies['title'].isin(my_favorite)]\n",
    "my_movie = pd.DataFrame({'user_id': [6041]*5, 'movie_id': favorite_movie_id['movie_id'], 'count':[5]*5})\n",
    "\n",
    "if not ratings.isin({'user_id':[6041]})['user_id'].any():\n",
    "    ratings = ratings.append(my_movie)"
   ]
  },
  {
   "cell_type": "code",
   "execution_count": 23,
   "id": "940d4cf9",
   "metadata": {},
   "outputs": [
    {
     "name": "stdout",
     "output_type": "stream",
     "text": [
      "      user_id  movie_id  count    timestamp\n",
      "0           1      1193      5  978300760.0\n",
      "1           1       661      3  978302109.0\n",
      "2           1       914      3  978301968.0\n",
      "3           1      3408      4  978300275.0\n",
      "4           1      2355      5  978824291.0\n",
      "...       ...       ...    ...          ...\n",
      "0        6041         1      5          NaN\n",
      "257      6041       260      5          NaN\n",
      "1178     6041      1196      5          NaN\n",
      "1192     6041      1210      5          NaN\n",
      "1539     6041      1580      5          NaN\n",
      "\n",
      "[836483 rows x 4 columns]\n"
     ]
    }
   ],
   "source": [
    "print(ratings)"
   ]
  },
  {
   "cell_type": "markdown",
   "id": "fbf4723e",
   "metadata": {},
   "source": [
    "## Making CSR matrix"
   ]
  },
  {
   "cell_type": "code",
   "execution_count": 26,
   "id": "301f6af8",
   "metadata": {},
   "outputs": [
    {
     "data": {
      "text/plain": [
       "<6042x3953 sparse matrix of type '<class 'numpy.int64'>'\n",
       "\twith 836483 stored elements in Compressed Sparse Row format>"
      ]
     },
     "execution_count": 26,
     "metadata": {},
     "output_type": "execute_result"
    }
   ],
   "source": [
    "csr_data = csr_matrix((ratings['count'], (ratings.user_id, ratings.movie_id)))\n",
    "csr_data"
   ]
  },
  {
   "cell_type": "markdown",
   "id": "77c358f9",
   "metadata": {},
   "source": [
    "## Training"
   ]
  },
  {
   "cell_type": "code",
   "execution_count": 27,
   "id": "6d892304",
   "metadata": {},
   "outputs": [],
   "source": [
    "os.environ['OPENBLAS_NUM_THREADS']='1'\n",
    "os.environ['KMP_DUPLICATE_LIB_OK']='True'\n",
    "os.environ['MKL_NUM_THREADS']='1'\n",
    "\n",
    "als_model = AlternatingLeastSquares(factors=100, regularization=0.01, use_gpu=False, iterations=15, dtype=np.float32)\n",
    "csr_data_transpose = csr_data.T"
   ]
  },
  {
   "cell_type": "code",
   "execution_count": 28,
   "id": "8bfdf4e2",
   "metadata": {},
   "outputs": [
    {
     "data": {
      "application/vnd.jupyter.widget-view+json": {
       "model_id": "806ac8d2b46e43749746710801606b68",
       "version_major": 2,
       "version_minor": 0
      },
      "text/plain": [
       "  0%|          | 0/15 [00:00<?, ?it/s]"
      ]
     },
     "metadata": {},
     "output_type": "display_data"
    }
   ],
   "source": [
    "als_model.fit(csr_data_transpose)"
   ]
  },
  {
   "cell_type": "markdown",
   "id": "ee4c8183",
   "metadata": {},
   "source": [
    "## 내가 선호하는 5가지 영화 중 하나와 그 외의 영화 하나를 골라 훈련된 모델이 예측한 나의 선호도를 파악해 보세요."
   ]
  },
  {
   "cell_type": "code",
   "execution_count": 35,
   "id": "52a7f34c",
   "metadata": {
    "scrolled": false
   },
   "outputs": [
    {
     "name": "stdout",
     "output_type": "stream",
     "text": [
      "      movie_id                                              title  \\\n",
      "1178      1196  Star Wars: Episode V - The Empire Strikes Back...   \n",
      "\n",
      "                                  genre  \n",
      "1178  Action|Adventure|Drama|Sci-Fi|War  \n"
     ]
    }
   ],
   "source": [
    "print(movies.loc[movies['movie_id'] == 1196])"
   ]
  },
  {
   "cell_type": "code",
   "execution_count": 30,
   "id": "a3b039d7",
   "metadata": {},
   "outputs": [],
   "source": [
    "my_vector, starwars5_vector = als_model.user_factors[6041], als_model.item_factors[1196]"
   ]
  },
  {
   "cell_type": "code",
   "execution_count": 31,
   "id": "761d8551",
   "metadata": {},
   "outputs": [
    {
     "name": "stdout",
     "output_type": "stream",
     "text": [
      "0.7916984\n"
     ]
    }
   ],
   "source": [
    "print(np.dot(my_vector, starwars5_vector))"
   ]
  },
  {
   "cell_type": "code",
   "execution_count": 39,
   "id": "b757dcb2",
   "metadata": {},
   "outputs": [
    {
     "name": "stdout",
     "output_type": "stream",
     "text": [
      "0.42848623\n"
     ]
    }
   ],
   "source": [
    "toystory_vector = als_model.item_factors[1]\n",
    "print(np.dot(my_vector, toystory_vector))"
   ]
  },
  {
   "cell_type": "markdown",
   "id": "1681c9a7",
   "metadata": {},
   "source": [
    "## 비슷한 영화 추천"
   ]
  },
  {
   "cell_type": "code",
   "execution_count": 41,
   "id": "03dade4a",
   "metadata": {
    "scrolled": false
   },
   "outputs": [
    {
     "name": "stdout",
     "output_type": "stream",
     "text": [
      "      movie_id                                              title  \\\n",
      "109        111                                 Taxi Driver (1976)   \n",
      "619        624                               Condition Red (1995)   \n",
      "847        858                              Godfather, The (1972)   \n",
      "861        872                               Aiqing wansui (1994)   \n",
      "911        923                                Citizen Kane (1941)   \n",
      "1195      1213                                  GoodFellas (1990)   \n",
      "1203      1221                     Godfather: Part II, The (1974)   \n",
      "1232      1252                                   Chinatown (1974)   \n",
      "1728      1787  Paralyzing Fear: The Story of Polio in America...   \n",
      "1884      1953                      French Connection, The (1971)   \n",
      "1954      2023                    Godfather: Part III, The (1990)   \n",
      "2626      2695                                   Boys, The (1997)   \n",
      "2818      2887                                   Simon Sez (1999)   \n",
      "3293      3362                           Dog Day Afternoon (1975)   \n",
      "3526      3595                                     Held Up (2000)   \n",
      "\n",
      "                            genre  \n",
      "109                Drama|Thriller  \n",
      "619         Action|Drama|Thriller  \n",
      "847            Action|Crime|Drama  \n",
      "861                         Drama  \n",
      "911                         Drama  \n",
      "1195                  Crime|Drama  \n",
      "1203           Action|Crime|Drama  \n",
      "1232   Film-Noir|Mystery|Thriller  \n",
      "1728                  Documentary  \n",
      "1884  Action|Crime|Drama|Thriller  \n",
      "1954           Action|Crime|Drama  \n",
      "2626                        Drama  \n",
      "2818                        Drama  \n",
      "3293           Comedy|Crime|Drama  \n",
      "3526                       Comedy  \n"
     ]
    }
   ],
   "source": [
    "favorite_movie = 'Star Wars: Episode V - The Empire Strikes Back (1980)'\n",
    "movie_id = movies[movies['title']=='Godfather, The (1972)']['movie_id']\n",
    "similar_movie = als_model.similar_items(movie_id.values[0], N=15)\n",
    "print(movies[movies['movie_id'].isin([s[0] for s in similar_movie])])"
   ]
  },
  {
   "cell_type": "markdown",
   "id": "e4e5d2ed",
   "metadata": {},
   "source": [
    "## 좋아할 만한 영화 추천"
   ]
  },
  {
   "cell_type": "code",
   "execution_count": 43,
   "id": "b2c77d31",
   "metadata": {},
   "outputs": [
    {
     "name": "stdout",
     "output_type": "stream",
     "text": [
      "[(1198, 0.47771493), (2628, 0.4637355), (3114, 0.3921763), (480, 0.3747278), (356, 0.37019545), (589, 0.35938245), (1270, 0.35367382), (2571, 0.33695787), (2858, 0.33235317), (2355, 0.3218944), (1197, 0.31003478), (1097, 0.2758375), (3175, 0.25518152), (1240, 0.25488025), (34, 0.2518977), (1265, 0.24610902), (110, 0.20838612), (1291, 0.2083039), (588, 0.20472558), (780, 0.17783237)]\n"
     ]
    }
   ],
   "source": [
    "movie_recommended = als_model.recommend(6041, csr_data, N=20, filter_already_liked_items=True)\n",
    "print(movie_recommended)"
   ]
  },
  {
   "cell_type": "code",
   "execution_count": 44,
   "id": "b8f2c27a",
   "metadata": {},
   "outputs": [
    {
     "name": "stdout",
     "output_type": "stream",
     "text": [
      "      movie_id                                             title  \\\n",
      "33          34                                       Babe (1995)   \n",
      "108        110                                 Braveheart (1995)   \n",
      "352        356                               Forrest Gump (1994)   \n",
      "476        480                              Jurassic Park (1993)   \n",
      "584        588                                    Aladdin (1992)   \n",
      "585        589                 Terminator 2: Judgment Day (1991)   \n",
      "770        780                     Independence Day (ID4) (1996)   \n",
      "1081      1097                 E.T. the Extra-Terrestrial (1982)   \n",
      "1179      1197                        Princess Bride, The (1987)   \n",
      "1180      1198                    Raiders of the Lost Ark (1981)   \n",
      "1220      1240                            Terminator, The (1984)   \n",
      "1245      1265                              Groundhog Day (1993)   \n",
      "1250      1270                         Back to the Future (1985)   \n",
      "1271      1291         Indiana Jones and the Last Crusade (1989)   \n",
      "2286      2355                              Bug's Life, A (1998)   \n",
      "2502      2571                                Matrix, The (1999)   \n",
      "2559      2628  Star Wars: Episode I - The Phantom Menace (1999)   \n",
      "2789      2858                            American Beauty (1999)   \n",
      "3045      3114                                Toy Story 2 (1999)   \n",
      "3106      3175                               Galaxy Quest (1999)   \n",
      "\n",
      "                                    genre  \n",
      "33                Children's|Comedy|Drama  \n",
      "108                      Action|Drama|War  \n",
      "352                    Comedy|Romance|War  \n",
      "476               Action|Adventure|Sci-Fi  \n",
      "584   Animation|Children's|Comedy|Musical  \n",
      "585                Action|Sci-Fi|Thriller  \n",
      "770                     Action|Sci-Fi|War  \n",
      "1081      Children's|Drama|Fantasy|Sci-Fi  \n",
      "1179      Action|Adventure|Comedy|Romance  \n",
      "1180                     Action|Adventure  \n",
      "1220               Action|Sci-Fi|Thriller  \n",
      "1245                       Comedy|Romance  \n",
      "1250                        Comedy|Sci-Fi  \n",
      "1271                     Action|Adventure  \n",
      "2286          Animation|Children's|Comedy  \n",
      "2502               Action|Sci-Fi|Thriller  \n",
      "2559      Action|Adventure|Fantasy|Sci-Fi  \n",
      "2789                         Comedy|Drama  \n",
      "3045          Animation|Children's|Comedy  \n",
      "3106              Adventure|Comedy|Sci-Fi  \n"
     ]
    }
   ],
   "source": [
    "print(movies[movies['movie_id'].isin([m[0] for m in movie_recommended])])"
   ]
  },
  {
   "cell_type": "markdown",
   "id": "52d8ead8",
   "metadata": {},
   "source": [
    "## 회고\n",
    "---\n",
    "스타워즈를 3개나 골라, 스타워즈 작품과 dot한 결과가 0.79나 되었다. 토이스토리 벡터와 곱해보니 0.42정도가 나왔다. 토이스토리보다는 스타워즈 작품들에 선호가 더 크게 나왔다. 좋아할 만한 영화에 다른 작품은 잘 모르겠고, 스타워즈 1이 끼어있는 것을 보니, 제대로 된 결과가 나온 듯하다. "
   ]
  }
 ],
 "metadata": {
  "kernelspec": {
   "display_name": "Python 3 (ipykernel)",
   "language": "python",
   "name": "python3"
  },
  "language_info": {
   "codemirror_mode": {
    "name": "ipython",
    "version": 3
   },
   "file_extension": ".py",
   "mimetype": "text/x-python",
   "name": "python",
   "nbconvert_exporter": "python",
   "pygments_lexer": "ipython3",
   "version": "3.9.7"
  }
 },
 "nbformat": 4,
 "nbformat_minor": 5
}
