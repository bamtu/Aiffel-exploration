{
 "cells": [
  {
   "cell_type": "code",
   "execution_count": 11,
   "id": "cf68a570",
   "metadata": {},
   "outputs": [
    {
     "name": "stdout",
     "output_type": "stream",
     "text": [
      "2.6.0\n",
      "1.21.4\n"
     ]
    }
   ],
   "source": [
    "import tensorflow as tf\n",
    "import numpy as np\n",
    "from tensorflow import keras\n",
    "import matplotlib.pyplot as plt\n",
    "\n",
    "from PIL import Image\n",
    "import glob\n",
    "import os\n",
    "from sklearn.model_selection import train_test_split\n",
    "\n",
    "print(tf.__version__)\n",
    "print(np.__version__)"
   ]
  },
  {
   "cell_type": "code",
   "execution_count": 13,
   "id": "e5e8ad28",
   "metadata": {},
   "outputs": [
    {
     "name": "stdout",
     "output_type": "stream",
     "text": [
      "2467  images to be resized.\n",
      "2467  images resized.\n",
      "2504  images to be resized.\n",
      "2504  images resized.\n",
      "2401  images to be resized.\n",
      "2401  images resized.\n",
      "학습데이터(x_train)의 이미지 개수는 7372 입니다.\n",
      "x_train shape: (6634, 28, 28, 3)\n",
      "y_train shape: (6634,)\n",
      "100  images to be resized.\n",
      "100  images resized.\n",
      "73  images to be resized.\n",
      "73  images resized.\n",
      "50  images to be resized.\n",
      "50  images resized.\n",
      "학습데이터(x_train)의 이미지 개수는 223 입니다.\n",
      "x_test shape: (223, 28, 28, 3)\n",
      "y_test shape: (223,)\n"
     ]
    }
   ],
   "source": [
    "def resize_images(img_path):\n",
    "    images=glob.glob(img_path + \"/*.jpg\")  \n",
    "    \n",
    "    print(len(images), \" images to be resized.\")\n",
    "\n",
    "    # 파일마다 모두 28x28 사이즈로 바꾸어 저장합니다.\n",
    "    target_size=(28,28)\n",
    "    for img in images:\n",
    "        old_img=Image.open(img)\n",
    "        new_img=old_img.resize(target_size,Image.ANTIALIAS)\n",
    "        new_img.save(img, \"JPEG\")\n",
    "    \n",
    "    print(len(images), \" images resized.\")\n",
    "    \n",
    "    \n",
    "def load_data(img_path, number_of_data):  # 가위바위보 이미지 개수 총합에 주의하세요.\n",
    "    # 가위 : 0, 바위 : 1, 보 : 2\n",
    "    img_size=28\n",
    "    color=3\n",
    "    #이미지 데이터와 라벨(가위 : 0, 바위 : 1, 보 : 2) 데이터를 담을 행렬(matrix) 영역을 생성합니다.\n",
    "    imgs=np.zeros(number_of_data*img_size*img_size*color,dtype=np.int32).reshape(number_of_data,img_size,img_size,color)\n",
    "    labels=np.zeros(number_of_data,dtype=np.int32)\n",
    "\n",
    "    idx=0\n",
    "    for file in glob.iglob(img_path+'/scissor/*.jpg'):\n",
    "        img = np.array(Image.open(file),dtype=np.int32)\n",
    "        imgs[idx,:,:,:]=img    # 데이터 영역에 이미지 행렬을 복사\n",
    "        labels[idx]=0   # 가위 : 0\n",
    "        idx=idx+1\n",
    "\n",
    "    for file in glob.iglob(img_path+'/rock/*.jpg'):\n",
    "        img = np.array(Image.open(file),dtype=np.int32)\n",
    "        imgs[idx,:,:,:]=img    # 데이터 영역에 이미지 행렬을 복사\n",
    "        labels[idx]=1   # 바위 : 1\n",
    "        idx=idx+1  \n",
    "    \n",
    "    for file in glob.iglob(img_path+'/paper/*.jpg'):\n",
    "        img = np.array(Image.open(file),dtype=np.int32)\n",
    "        imgs[idx,:,:,:]=img    # 데이터 영역에 이미지 행렬을 복사\n",
    "        labels[idx]=2   # 보 : 2\n",
    "        idx=idx+1\n",
    "        \n",
    "    print(\"학습데이터(x_train)의 이미지 개수는\", idx,\"입니다.\")\n",
    "    return imgs, labels\n",
    "\n",
    "\n",
    "# 가위 이미지가 저장된 디렉토리 아래의 모든 jpg 파일을 읽어들여서\n",
    "image_dir_path = os.getenv(\"HOME\") + \"/aiffel/rock_scissor_paper/scissor\"\n",
    "resize_images(image_dir_path)\n",
    "image_dir_path = os.getenv(\"HOME\") + \"/aiffel/rock_scissor_paper/rock\"\n",
    "resize_images(image_dir_path)\n",
    "image_dir_path = os.getenv(\"HOME\") + \"/aiffel/rock_scissor_paper/paper\"\n",
    "resize_images(image_dir_path)\n",
    "\n",
    "image_dir_path = os.getenv(\"HOME\") + \"/aiffel/rock_scissor_paper\"\n",
    "(x_train, y_train)=load_data(image_dir_path, 7372)\n",
    "x_train_norm = x_train/255.0   # 입력은 0~1 사이의 값으로 정규화\n",
    "\n",
    "x_train, x_val, y_train, y_val = train_test_split(x_train_norm, y_train, test_size=0.1, random_state=0)\n",
    "\n",
    "print(\"x_train shape: {}\".format(x_train.shape))\n",
    "print(\"y_train shape: {}\".format(y_train.shape))\n",
    "\n",
    "image_dir_path = os.getenv(\"HOME\") + \"/aiffel/rock_scissor_paper/test/scissor\"\n",
    "resize_images(image_dir_path)\n",
    "image_dir_path = os.getenv(\"HOME\") + \"/aiffel/rock_scissor_paper/test/rock\"\n",
    "resize_images(image_dir_path)\n",
    "image_dir_path = os.getenv(\"HOME\") + \"/aiffel/rock_scissor_paper/test/paper\"\n",
    "resize_images(image_dir_path)\n",
    "\n",
    "image_dir_path = os.getenv(\"HOME\") + \"/aiffel/rock_scissor_paper/test\"\n",
    "(x_test, y_test)=load_data(image_dir_path, 223)\n",
    "x_test_norm = x_test/255.0   # 입력은 0~1 사이의 값으로 정규화\n",
    "\n",
    "\n",
    "print(\"x_test shape: {}\".format(x_test.shape))\n",
    "print(\"y_test shape: {}\".format(y_test.shape))"
   ]
  },
  {
   "cell_type": "code",
   "execution_count": 14,
   "id": "0e1c6bd2",
   "metadata": {},
   "outputs": [
    {
     "name": "stdout",
     "output_type": "stream",
     "text": [
      "라벨:  2\n"
     ]
    },
    {
     "data": {
      "image/png": "[encoded data removed]",
      "text/plain": [
       "<Figure size 432x288 with 1 Axes>"
      ]
     },
     "metadata": {
      "needs_background": "light"
     },
     "output_type": "display_data"
    }
   ],
   "source": [
    "plt.imshow(x_train[0])\n",
    "print('라벨: ', y_train[0])"
   ]
  },
  {
   "cell_type": "code",
   "execution_count": 18,
   "id": "52e1caae",
   "metadata": {},
   "outputs": [
    {
     "name": "stdout",
     "output_type": "stream",
     "text": [
      "Model: \"sequential_2\"\n",
      "_________________________________________________________________\n",
      "Layer (type)                 Output Shape              Param #   \n",
      "=================================================================\n",
      "conv2d_4 (Conv2D)            (None, 26, 26, 120)       3360      \n",
      "_________________________________________________________________\n",
      "max_pooling2d_4 (MaxPooling2 (None, 13, 13, 120)       0         \n",
      "_________________________________________________________________\n",
      "conv2d_5 (Conv2D)            (None, 11, 11, 400)       432400    \n",
      "_________________________________________________________________\n",
      "max_pooling2d_5 (MaxPooling2 (None, 5, 5, 400)         0         \n",
      "_________________________________________________________________\n",
      "flatten_2 (Flatten)          (None, 10000)             0         \n",
      "_________________________________________________________________\n",
      "dense_4 (Dense)              (None, 200)               2000200   \n",
      "_________________________________________________________________\n",
      "dense_5 (Dense)              (None, 10)                2010      \n",
      "=================================================================\n",
      "Total params: 2,437,970\n",
      "Trainable params: 2,437,970\n",
      "Non-trainable params: 0\n",
      "_________________________________________________________________\n"
     ]
    }
   ],
   "source": [
    "n_channel_1=120\n",
    "n_channel_2=400\n",
    "n_dense=200\n",
    "n_train_epoch=25\n",
    "#56프로\n",
    "# n_channel_1=120\n",
    "# n_channel_2=400\n",
    "# n_dense=30\n",
    "# n_train_epoch=25\n",
    "\n",
    "model=keras.models.Sequential()\n",
    "model.add(keras.layers.Conv2D(n_channel_1, (3,3), activation='relu', input_shape=(28,28,3)))\n",
    "model.add(keras.layers.MaxPool2D(2,2))\n",
    "model.add(keras.layers.Conv2D(n_channel_2, (3,3), activation='relu'))\n",
    "model.add(keras.layers.MaxPooling2D((2,2)))\n",
    "model.add(keras.layers.Flatten())\n",
    "model.add(keras.layers.Dense(n_dense, activation='relu'))\n",
    "model.add(keras.layers.Dense(10, activation='softmax'))\n",
    "\n",
    "\n",
    "model.summary()"
   ]
  },
  {
   "cell_type": "code",
   "execution_count": 19,
   "id": "8b936296",
   "metadata": {},
   "outputs": [
    {
     "name": "stdout",
     "output_type": "stream",
     "text": [
      "Epoch 1/25\n",
      "208/208 [==============================] - 2s 6ms/step - loss: 0.9626 - accuracy: 0.5125 - val_loss: 0.7040 - val_accuracy: 0.7154\n",
      "Epoch 2/25\n",
      "208/208 [==============================] - 1s 5ms/step - loss: 0.4884 - accuracy: 0.7994 - val_loss: 0.3722 - val_accuracy: 0.8523\n",
      "Epoch 3/25\n",
      "208/208 [==============================] - 1s 5ms/step - loss: 0.2691 - accuracy: 0.8952 - val_loss: 0.2640 - val_accuracy: 0.9065\n",
      "Epoch 4/25\n",
      "208/208 [==============================] - 1s 5ms/step - loss: 0.1711 - accuracy: 0.9341 - val_loss: 0.1994 - val_accuracy: 0.9377\n",
      "Epoch 5/25\n",
      "208/208 [==============================] - 1s 5ms/step - loss: 0.1095 - accuracy: 0.9570 - val_loss: 0.1556 - val_accuracy: 0.9499\n",
      "Epoch 6/25\n",
      "208/208 [==============================] - 1s 5ms/step - loss: 0.0831 - accuracy: 0.9699 - val_loss: 0.1064 - val_accuracy: 0.9621\n",
      "Epoch 7/25\n",
      "208/208 [==============================] - 1s 5ms/step - loss: 0.0624 - accuracy: 0.9765 - val_loss: 0.0752 - val_accuracy: 0.9756\n",
      "Epoch 8/25\n",
      "208/208 [==============================] - 1s 5ms/step - loss: 0.0428 - accuracy: 0.9842 - val_loss: 0.0630 - val_accuracy: 0.9743\n",
      "Epoch 9/25\n",
      "208/208 [==============================] - 1s 5ms/step - loss: 0.0329 - accuracy: 0.9858 - val_loss: 0.0449 - val_accuracy: 0.9864\n",
      "Epoch 10/25\n",
      "208/208 [==============================] - 1s 5ms/step - loss: 0.0271 - accuracy: 0.9866 - val_loss: 0.0384 - val_accuracy: 0.9770\n",
      "Epoch 11/25\n",
      "208/208 [==============================] - 1s 5ms/step - loss: 0.0287 - accuracy: 0.9864 - val_loss: 0.0535 - val_accuracy: 0.9756\n",
      "Epoch 12/25\n",
      "208/208 [==============================] - 1s 5ms/step - loss: 0.0303 - accuracy: 0.9855 - val_loss: 0.0400 - val_accuracy: 0.9851\n",
      "Epoch 13/25\n",
      "208/208 [==============================] - 1s 5ms/step - loss: 0.0996 - accuracy: 0.9591 - val_loss: 0.0652 - val_accuracy: 0.9729\n",
      "Epoch 14/25\n",
      "208/208 [==============================] - 1s 5ms/step - loss: 0.0440 - accuracy: 0.9801 - val_loss: 0.1016 - val_accuracy: 0.9675\n",
      "Epoch 15/25\n",
      "208/208 [==============================] - 1s 5ms/step - loss: 0.0389 - accuracy: 0.9797 - val_loss: 0.0494 - val_accuracy: 0.9837\n",
      "Epoch 16/25\n",
      "208/208 [==============================] - 1s 5ms/step - loss: 0.0240 - accuracy: 0.9857 - val_loss: 0.0413 - val_accuracy: 0.9797\n",
      "Epoch 17/25\n",
      "208/208 [==============================] - 1s 5ms/step - loss: 0.0207 - accuracy: 0.9861 - val_loss: 0.0448 - val_accuracy: 0.9770\n",
      "Epoch 18/25\n",
      "208/208 [==============================] - 1s 5ms/step - loss: 0.0206 - accuracy: 0.9875 - val_loss: 0.0427 - val_accuracy: 0.9770\n",
      "Epoch 19/25\n",
      "208/208 [==============================] - 1s 5ms/step - loss: 0.0208 - accuracy: 0.9861 - val_loss: 0.0382 - val_accuracy: 0.9743\n",
      "Epoch 20/25\n",
      "208/208 [==============================] - 1s 5ms/step - loss: 0.0202 - accuracy: 0.9864 - val_loss: 0.0466 - val_accuracy: 0.9783\n",
      "Epoch 21/25\n",
      "208/208 [==============================] - 1s 5ms/step - loss: 0.0206 - accuracy: 0.9860 - val_loss: 0.0416 - val_accuracy: 0.9851\n",
      "Epoch 22/25\n",
      "208/208 [==============================] - 1s 5ms/step - loss: 0.0205 - accuracy: 0.9846 - val_loss: 0.0418 - val_accuracy: 0.9810\n",
      "Epoch 23/25\n",
      "208/208 [==============================] - 1s 5ms/step - loss: 0.0200 - accuracy: 0.9870 - val_loss: 0.0450 - val_accuracy: 0.9783\n",
      "Epoch 24/25\n",
      "208/208 [==============================] - 1s 5ms/step - loss: 0.0197 - accuracy: 0.9866 - val_loss: 0.0457 - val_accuracy: 0.9797\n",
      "Epoch 25/25\n",
      "208/208 [==============================] - 1s 5ms/step - loss: 0.0195 - accuracy: 0.9873 - val_loss: 0.0409 - val_accuracy: 0.9878\n"
     ]
    }
   ],
   "source": [
    "model.compile(optimizer='adam',\n",
    "             loss='sparse_categorical_crossentropy',\n",
    "             metrics=['accuracy'])\n",
    "\n",
    "history = model.fit(x_train, y_train, validation_data=(x_val, y_val), epochs=n_train_epoch)"
   ]
  },
  {
   "cell_type": "code",
   "execution_count": 20,
   "id": "494f8d9b",
   "metadata": {},
   "outputs": [
    {
     "name": "stdout",
     "output_type": "stream",
     "text": [
      "7/7 - 0s - loss: 3.4175 - accuracy: 0.6637\n",
      "test_loss: 3.4174582958221436\n",
      "test_accuracy: 0.6636771559715271\n"
     ]
    }
   ],
   "source": [
    "test_loss, test_accuracy = model.evaluate(x_test_norm,y_test, verbose=2)\n",
    "print(f\"test_loss: {test_loss}\")\n",
    "print(f\"test_accuracy: {test_accuracy}\")"
   ]
  },
  {
   "cell_type": "code",
   "execution_count": 151,
   "id": "9e7dae2d",
   "metadata": {},
   "outputs": [
    {
     "name": "stdout",
     "output_type": "stream",
     "text": [
      "dict_keys(['loss', 'accuracy', 'val_loss', 'val_accuracy'])\n"
     ]
    },
    {
     "data": {
      "image/png": "[encoded data removed]",
      "text/plain": [
       "<Figure size 432x288 with 1 Axes>"
      ]
     },
     "metadata": {
      "needs_background": "light"
     },
     "output_type": "display_data"
    },
    {
     "data": {
      "image/png": "[encoded data removed]",
      "text/plain": [
       "<Figure size 432x288 with 1 Axes>"
      ]
     },
     "metadata": {
      "needs_background": "light"
     },
     "output_type": "display_data"
    }
   ],
   "source": [
    "print(history.history.keys())\n",
    "# summarize history for accuracy\n",
    "plt.plot(history.history['accuracy'])\n",
    "plt.plot(history.history['val_accuracy'])\n",
    "plt.title('model accuracy')\n",
    "plt.ylabel('accuracy')\n",
    "plt.xlabel('epoch')\n",
    "plt.legend(['train', 'test'], loc='upper left')\n",
    "plt.show()\n",
    "# summarize history for loss\n",
    "plt.plot(history.history['loss'])\n",
    "plt.plot(history.history['val_loss'])\n",
    "plt.title('model loss')\n",
    "plt.ylabel('loss')\n",
    "plt.xlabel('epoch')\n",
    "plt.legend(['train', 'test'], loc='upper left')\n",
    "plt.show()"
   ]
  },
  {
   "cell_type": "code",
   "execution_count": null,
   "id": "2558a3dd",
   "metadata": {},
   "outputs": [],
   "source": []
  }
 ],
 "metadata": {
  "kernelspec": {
   "display_name": "Python 3 (ipykernel)",
   "language": "python",
   "name": "python3"
  },
  "language_info": {
   "codemirror_mode": {
    "name": "ipython",
    "version": 3
   },
   "file_extension": ".py",
   "mimetype": "text/x-python",
   "name": "python",
   "nbconvert_exporter": "python",
   "pygments_lexer": "ipython3",
   "version": "3.9.7"
  }
 },
 "nbformat": 4,
 "nbformat_minor": 5
}
